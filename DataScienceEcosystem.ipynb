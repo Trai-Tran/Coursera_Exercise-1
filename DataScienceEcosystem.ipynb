{
 "cells": [
  {
   "cell_type": "markdown",
   "id": "c8e8966a-cddc-4dff-bcd2-1afe34de78f7",
   "metadata": {},
   "source": [
    "# Data Science Tools and Ecosystem"
   ]
  },
  {
   "cell_type": "markdown",
   "id": "20bf481b-06e7-45c5-87de-7b12e843ba9f",
   "metadata": {},
   "source": [
    "In this notebook, Data Science Tools and Ecosystem are summarized."
   ]
  },
  {
   "cell_type": "markdown",
   "id": "e3277b90-c708-4f12-9a6f-c2ad4a2078c9",
   "metadata": {},
   "source": [
    "## Author\n",
    "Trai Tran"
   ]
  },
  {
   "cell_type": "markdown",
   "id": "8f9dd5cd-3698-45ad-b017-5f51012ee592",
   "metadata": {},
   "source": [
    "Some of the popular languages that Data Scientists use are:\n",
    "1. Python\n",
    "3. R\n",
    "5. SQL\n",
    "7. C/C++\n"
   ]
  },
  {
   "cell_type": "markdown",
   "id": "794ad3ab-92ba-4fa9-b1c0-173c0581fb45",
   "metadata": {},
   "source": [
    "**Objective**\n",
    "- The recommended languages to learn in data science are Python, R, and SQL, but other languages like Scala, Java, C++, and Julia are also popular.\n",
    "- JavaScript, PHP, Go, Ruby, and Visual Basic have their own unique use cases.\n",
    "- The language you choose to learn depends on your needs, the problems you are trying to solve, and who you are solving them for.\n",
    "- There are many roles available in data science, including Business Analyst, Database Engineer, Data Analyst, Data Engineer, Data Scientist, Research Scientist, Software Engineer, Statistician, Product Manager, and Project Manager."
   ]
  },
  {
   "cell_type": "markdown",
   "id": "cfb32736-5f21-4927-aa40-cb13993bbd84",
   "metadata": {},
   "source": [
    "Some of the commonly used libraries used by Data Scientists include:\n",
    "1. Python libraries\n",
    "2. Pandas\n",
    "3. NumPy\n",
    "4. Seaborn"
   ]
  },
  {
   "cell_type": "markdown",
   "id": "676b7e3f-c053-4ede-8141-8042f0d44492",
   "metadata": {},
   "source": [
    "| Data Science Tools |\n",
    "|---|\n",
    "|Jupyter Notebook|\n",
    "|RStudio IDE|\n",
    "|GitHup|"
   ]
  },
  {
   "cell_type": "markdown",
   "id": "e3f72278-6358-4a8a-b350-724fd6dec006",
   "metadata": {},
   "source": [
    "### Below are a few examples of evaluating arithmetic expressions in Python"
   ]
  },
  {
   "cell_type": "code",
   "execution_count": 4,
   "id": "206dfaf1-2e42-4c65-8cd6-74fcc9bdbe57",
   "metadata": {},
   "outputs": [
    {
     "data": {
      "text/plain": [
       "17"
      ]
     },
     "execution_count": 4,
     "metadata": {},
     "output_type": "execute_result"
    }
   ],
   "source": [
    "# This a simple arithmetic expression to mutiply then add integers\n",
    "(3*4)+5"
   ]
  },
  {
   "cell_type": "code",
   "execution_count": 10,
   "id": "0b1511b6-326b-4224-9a57-686f9114202d",
   "metadata": {},
   "outputs": [
    {
     "data": {
      "text/plain": [
       "3.3333333333333335"
      ]
     },
     "execution_count": 10,
     "metadata": {},
     "output_type": "execute_result"
    }
   ],
   "source": [
    "# This will convert 200 minutes to hours by diving by 60\n",
    "200/60"
   ]
  },
  {
   "cell_type": "code",
   "execution_count": null,
   "id": "72b64bb7-34d0-4c0a-b2a1-0d0965a78b65",
   "metadata": {},
   "outputs": [],
   "source": []
  }
 ],
 "metadata": {
  "kernelspec": {
   "display_name": "Python 3 (ipykernel)",
   "language": "python",
   "name": "python3"
  },
  "language_info": {
   "codemirror_mode": {
    "name": "ipython",
    "version": 3
   },
   "file_extension": ".py",
   "mimetype": "text/x-python",
   "name": "python",
   "nbconvert_exporter": "python",
   "pygments_lexer": "ipython3",
   "version": "3.11.8"
  }
 },
 "nbformat": 4,
 "nbformat_minor": 5
}
