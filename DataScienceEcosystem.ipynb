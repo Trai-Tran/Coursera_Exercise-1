{
 "cells": [
  {
   "cell_type": "markdown",
   "id": "c8e8966a-cddc-4dff-bcd2-1afe34de78f7",
   "metadata": {},
   "source": [
    "# Data Science Tools and Ecosystem"
   ]
  },
  {
   "cell_type": "markdown",
   "id": "e3277b90-c708-4f12-9a6f-c2ad4a2078c9",
   "metadata": {},
   "source": [
    "## Author"
   ]
  },
  {
   "cell_type": "markdown",
   "id": "e1cab3b9-5e7c-4b6b-9968-8ff5d3ecbc16",
   "metadata": {},
   "source": [
    "Trai Tran"
   ]
  },
  {
   "cell_type": "markdown",
   "id": "20bf481b-06e7-45c5-87de-7b12e843ba9f",
   "metadata": {},
   "source": [
    "### In this notebook, Data Science Tools and Ecosystem are summarized."
   ]
  },
  {
   "cell_type": "markdown",
   "id": "8f9dd5cd-3698-45ad-b017-5f51012ee592",
   "metadata": {},
   "source": [
    "Some of the popular languages that Data Scientists use are:\n",
    "1. Python\n",
    "    * **Objectives:**\n",
    "        * Readability\n",
    "        * Versatility\n",
    "        * Productivity\n",
    "        * Problem-solving\n",
    "        * Algorithmic thinking\n",
    "        * Data structures\n",
    "        * Programming fundamentals\n",
    "3. R\n",
    "   * **Objectives:**\n",
    "     *  Statistical Computing and Graphics\n",
    "     *  Open Source and Extensible\n",
    "     *  Data Exploration and Analysis\n",
    "     *  Machine Learning\n",
    "     *  Reproducible Research\n",
    "5. SQL\n",
    "    * **Objectives:**\n",
    "        *  Data Manipulation\n",
    "        *  Data Definition\n",
    "        *  Data Control\n",
    "7. C/C++\n",
    "    * **Objectives:**\n",
    "        * Balance of Power and Efficiency\n",
    "        * Object-Oriented Programming (OOP) for C\n",
    "        * Portability and Performance\n",
    "        * System Programming\n",
    "        * High-Performance Applications\n",
    "        * Large-Scale Applications\n",
    "        * Game Development"
   ]
  },
  {
   "cell_type": "markdown",
   "id": "cfb32736-5f21-4927-aa40-cb13993bbd84",
   "metadata": {},
   "source": [
    "Some of the commonly used libraries used by Data Scientists include:\n",
    "1. Data Analysis and Manipulation:\n",
    "    * Numpy: Provides the foundation for numerical computing with multi-dimensional arrays and linear algebra operations.\n",
    "    * Pandas: The workhorse for data analysis, offering DataFrames (tabular data structures) for cleaning, manipulation, and analysis.\n",
    "2. Data Visualization:\n",
    "    *  Matplotlib: The fundamental library for creating static, animated, and interactive visualizations.\n",
    "    *  Seaborn: A high-level wrapper on Matplotlib that simplifies creating statistical graphics with a focus on aesthetics.\n",
    "3. Machine Learning:\n",
    "    *  Scikit-learn: A comprehensive library for traditional machine learning algorithms like classification, regression, clustering, and model selection.\n",
    "4. Deep Learning:\n",
    "    *  TensorFlow: A popular open-source framework for numerical computation and large-scale machine learning, especially deep learning.\n",
    "    *  PyTorch: Another powerful deep learning framework known for its flexibility and ease of use.\n",
    "5. Others:\n",
    "    *  Scrapy/Beautiful Soup: For web scraping tasks to extract data from websites.\n",
    "    *  sciPy: Offers additional functionalities beyond NumPy for scientific computing and advanced algorithms."
   ]
  },
  {
   "cell_type": "markdown",
   "id": "676b7e3f-c053-4ede-8141-8042f0d44492",
   "metadata": {},
   "source": [
    "| Data Science Tools |\n",
    "|---|\n",
    "|Jupyter Notebook|\n",
    "|RStudio|\n",
    "|Spyder|"
   ]
  },
  {
   "cell_type": "markdown",
   "id": "e3f72278-6358-4a8a-b350-724fd6dec006",
   "metadata": {},
   "source": [
    "### Below are a few examples of evaluating arithmetic expressions in Python"
   ]
  },
  {
   "cell_type": "code",
   "execution_count": 4,
   "id": "206dfaf1-2e42-4c65-8cd6-74fcc9bdbe57",
   "metadata": {},
   "outputs": [
    {
     "data": {
      "text/plain": [
       "17"
      ]
     },
     "execution_count": 4,
     "metadata": {},
     "output_type": "execute_result"
    }
   ],
   "source": [
    "# This a simple arithmetic expression to mutiply then add integers\n",
    "(3*4)+5"
   ]
  },
  {
   "cell_type": "code",
   "execution_count": 10,
   "id": "0b1511b6-326b-4224-9a57-686f9114202d",
   "metadata": {},
   "outputs": [
    {
     "data": {
      "text/plain": [
       "3.3333333333333335"
      ]
     },
     "execution_count": 10,
     "metadata": {},
     "output_type": "execute_result"
    }
   ],
   "source": [
    "# This will convert 200 minutes to hours by diving by 60\n",
    "200/60"
   ]
  },
  {
   "cell_type": "code",
   "execution_count": null,
   "id": "72b64bb7-34d0-4c0a-b2a1-0d0965a78b65",
   "metadata": {},
   "outputs": [],
   "source": []
  }
 ],
 "metadata": {
  "kernelspec": {
   "display_name": "Python 3 (ipykernel)",
   "language": "python",
   "name": "python3"
  },
  "language_info": {
   "codemirror_mode": {
    "name": "ipython",
    "version": 3
   },
   "file_extension": ".py",
   "mimetype": "text/x-python",
   "name": "python",
   "nbconvert_exporter": "python",
   "pygments_lexer": "ipython3",
   "version": "3.11.8"
  }
 },
 "nbformat": 4,
 "nbformat_minor": 5
}
